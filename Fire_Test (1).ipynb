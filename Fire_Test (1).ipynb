{
 "cells": [
  {
   "cell_type": "code",
   "execution_count": 1,
   "id": "8565e75c",
   "metadata": {},
   "outputs": [],
   "source": [
    "#importing all libraries\n",
    "import glob\n",
    "import tensorflow as tf\n",
    "import numpy as np\n",
    "import matplotlib.pyplot as plt\n",
    "import pandas as pd"
   ]
  },
  {
   "cell_type": "code",
   "execution_count": 2,
   "id": "3589013a",
   "metadata": {},
   "outputs": [],
   "source": [
    "lst_fire_img = glob.glob('C:/Users/Muhammad Kashif/OneDrive/Documents/FIRE/fire_dataset/fire_images/*.png')\n",
    "lst_non_fire_img = glob.glob('C:/Users/Muhammad Kashif/OneDrive/Documents/FIRE/fire_dataset/non_fire_images/*.png')"
   ]
  },
  {
   "cell_type": "code",
   "execution_count": 3,
   "id": "40ecd153",
   "metadata": {},
   "outputs": [
    {
     "data": {
      "text/plain": [
       "['C:/Users/Muhammad Kashif/OneDrive/Documents/FIRE/fire_dataset/non_fire_images\\\\non_fire.1.png',\n",
       " 'C:/Users/Muhammad Kashif/OneDrive/Documents/FIRE/fire_dataset/non_fire_images\\\\non_fire.10.png',\n",
       " 'C:/Users/Muhammad Kashif/OneDrive/Documents/FIRE/fire_dataset/non_fire_images\\\\non_fire.100.png',\n",
       " 'C:/Users/Muhammad Kashif/OneDrive/Documents/FIRE/fire_dataset/non_fire_images\\\\non_fire.101.png',\n",
       " 'C:/Users/Muhammad Kashif/OneDrive/Documents/FIRE/fire_dataset/non_fire_images\\\\non_fire.102.png',\n",
       " 'C:/Users/Muhammad Kashif/OneDrive/Documents/FIRE/fire_dataset/non_fire_images\\\\non_fire.103.png',\n",
       " 'C:/Users/Muhammad Kashif/OneDrive/Documents/FIRE/fire_dataset/non_fire_images\\\\non_fire.104.png',\n",
       " 'C:/Users/Muhammad Kashif/OneDrive/Documents/FIRE/fire_dataset/non_fire_images\\\\non_fire.105.png',\n",
       " 'C:/Users/Muhammad Kashif/OneDrive/Documents/FIRE/fire_dataset/non_fire_images\\\\non_fire.106.png',\n",
       " 'C:/Users/Muhammad Kashif/OneDrive/Documents/FIRE/fire_dataset/non_fire_images\\\\non_fire.107.png',\n",
       " 'C:/Users/Muhammad Kashif/OneDrive/Documents/FIRE/fire_dataset/non_fire_images\\\\non_fire.108.png',\n",
       " 'C:/Users/Muhammad Kashif/OneDrive/Documents/FIRE/fire_dataset/non_fire_images\\\\non_fire.109.png',\n",
       " 'C:/Users/Muhammad Kashif/OneDrive/Documents/FIRE/fire_dataset/non_fire_images\\\\non_fire.11.png',\n",
       " 'C:/Users/Muhammad Kashif/OneDrive/Documents/FIRE/fire_dataset/non_fire_images\\\\non_fire.110.png',\n",
       " 'C:/Users/Muhammad Kashif/OneDrive/Documents/FIRE/fire_dataset/non_fire_images\\\\non_fire.111.png',\n",
       " 'C:/Users/Muhammad Kashif/OneDrive/Documents/FIRE/fire_dataset/non_fire_images\\\\non_fire.112.png',\n",
       " 'C:/Users/Muhammad Kashif/OneDrive/Documents/FIRE/fire_dataset/non_fire_images\\\\non_fire.113.png',\n",
       " 'C:/Users/Muhammad Kashif/OneDrive/Documents/FIRE/fire_dataset/non_fire_images\\\\non_fire.114.png',\n",
       " 'C:/Users/Muhammad Kashif/OneDrive/Documents/FIRE/fire_dataset/non_fire_images\\\\non_fire.115.png',\n",
       " 'C:/Users/Muhammad Kashif/OneDrive/Documents/FIRE/fire_dataset/non_fire_images\\\\non_fire.116.png',\n",
       " 'C:/Users/Muhammad Kashif/OneDrive/Documents/FIRE/fire_dataset/non_fire_images\\\\non_fire.117.png',\n",
       " 'C:/Users/Muhammad Kashif/OneDrive/Documents/FIRE/fire_dataset/non_fire_images\\\\non_fire.118.png',\n",
       " 'C:/Users/Muhammad Kashif/OneDrive/Documents/FIRE/fire_dataset/non_fire_images\\\\non_fire.119.png',\n",
       " 'C:/Users/Muhammad Kashif/OneDrive/Documents/FIRE/fire_dataset/non_fire_images\\\\non_fire.12.png',\n",
       " 'C:/Users/Muhammad Kashif/OneDrive/Documents/FIRE/fire_dataset/non_fire_images\\\\non_fire.120.png',\n",
       " 'C:/Users/Muhammad Kashif/OneDrive/Documents/FIRE/fire_dataset/non_fire_images\\\\non_fire.121.png',\n",
       " 'C:/Users/Muhammad Kashif/OneDrive/Documents/FIRE/fire_dataset/non_fire_images\\\\non_fire.122.png',\n",
       " 'C:/Users/Muhammad Kashif/OneDrive/Documents/FIRE/fire_dataset/non_fire_images\\\\non_fire.123.png',\n",
       " 'C:/Users/Muhammad Kashif/OneDrive/Documents/FIRE/fire_dataset/non_fire_images\\\\non_fire.124.png',\n",
       " 'C:/Users/Muhammad Kashif/OneDrive/Documents/FIRE/fire_dataset/non_fire_images\\\\non_fire.125.png',\n",
       " 'C:/Users/Muhammad Kashif/OneDrive/Documents/FIRE/fire_dataset/non_fire_images\\\\non_fire.126.png',\n",
       " 'C:/Users/Muhammad Kashif/OneDrive/Documents/FIRE/fire_dataset/non_fire_images\\\\non_fire.127.png',\n",
       " 'C:/Users/Muhammad Kashif/OneDrive/Documents/FIRE/fire_dataset/non_fire_images\\\\non_fire.128.png',\n",
       " 'C:/Users/Muhammad Kashif/OneDrive/Documents/FIRE/fire_dataset/non_fire_images\\\\non_fire.129.png',\n",
       " 'C:/Users/Muhammad Kashif/OneDrive/Documents/FIRE/fire_dataset/non_fire_images\\\\non_fire.13.png',\n",
       " 'C:/Users/Muhammad Kashif/OneDrive/Documents/FIRE/fire_dataset/non_fire_images\\\\non_fire.130.png',\n",
       " 'C:/Users/Muhammad Kashif/OneDrive/Documents/FIRE/fire_dataset/non_fire_images\\\\non_fire.131.png',\n",
       " 'C:/Users/Muhammad Kashif/OneDrive/Documents/FIRE/fire_dataset/non_fire_images\\\\non_fire.132.png',\n",
       " 'C:/Users/Muhammad Kashif/OneDrive/Documents/FIRE/fire_dataset/non_fire_images\\\\non_fire.133.png',\n",
       " 'C:/Users/Muhammad Kashif/OneDrive/Documents/FIRE/fire_dataset/non_fire_images\\\\non_fire.134.png',\n",
       " 'C:/Users/Muhammad Kashif/OneDrive/Documents/FIRE/fire_dataset/non_fire_images\\\\non_fire.135.png',\n",
       " 'C:/Users/Muhammad Kashif/OneDrive/Documents/FIRE/fire_dataset/non_fire_images\\\\non_fire.136.png',\n",
       " 'C:/Users/Muhammad Kashif/OneDrive/Documents/FIRE/fire_dataset/non_fire_images\\\\non_fire.137.png',\n",
       " 'C:/Users/Muhammad Kashif/OneDrive/Documents/FIRE/fire_dataset/non_fire_images\\\\non_fire.138.png',\n",
       " 'C:/Users/Muhammad Kashif/OneDrive/Documents/FIRE/fire_dataset/non_fire_images\\\\non_fire.139.png',\n",
       " 'C:/Users/Muhammad Kashif/OneDrive/Documents/FIRE/fire_dataset/non_fire_images\\\\non_fire.14.png',\n",
       " 'C:/Users/Muhammad Kashif/OneDrive/Documents/FIRE/fire_dataset/non_fire_images\\\\non_fire.140.png',\n",
       " 'C:/Users/Muhammad Kashif/OneDrive/Documents/FIRE/fire_dataset/non_fire_images\\\\non_fire.141.png',\n",
       " 'C:/Users/Muhammad Kashif/OneDrive/Documents/FIRE/fire_dataset/non_fire_images\\\\non_fire.142.png',\n",
       " 'C:/Users/Muhammad Kashif/OneDrive/Documents/FIRE/fire_dataset/non_fire_images\\\\non_fire.143.png',\n",
       " 'C:/Users/Muhammad Kashif/OneDrive/Documents/FIRE/fire_dataset/non_fire_images\\\\non_fire.144.png',\n",
       " 'C:/Users/Muhammad Kashif/OneDrive/Documents/FIRE/fire_dataset/non_fire_images\\\\non_fire.145.png',\n",
       " 'C:/Users/Muhammad Kashif/OneDrive/Documents/FIRE/fire_dataset/non_fire_images\\\\non_fire.146.png',\n",
       " 'C:/Users/Muhammad Kashif/OneDrive/Documents/FIRE/fire_dataset/non_fire_images\\\\non_fire.147.png',\n",
       " 'C:/Users/Muhammad Kashif/OneDrive/Documents/FIRE/fire_dataset/non_fire_images\\\\non_fire.148.png',\n",
       " 'C:/Users/Muhammad Kashif/OneDrive/Documents/FIRE/fire_dataset/non_fire_images\\\\non_fire.149.png',\n",
       " 'C:/Users/Muhammad Kashif/OneDrive/Documents/FIRE/fire_dataset/non_fire_images\\\\non_fire.15.png',\n",
       " 'C:/Users/Muhammad Kashif/OneDrive/Documents/FIRE/fire_dataset/non_fire_images\\\\non_fire.150.png',\n",
       " 'C:/Users/Muhammad Kashif/OneDrive/Documents/FIRE/fire_dataset/non_fire_images\\\\non_fire.151.png',\n",
       " 'C:/Users/Muhammad Kashif/OneDrive/Documents/FIRE/fire_dataset/non_fire_images\\\\non_fire.152.png',\n",
       " 'C:/Users/Muhammad Kashif/OneDrive/Documents/FIRE/fire_dataset/non_fire_images\\\\non_fire.153.png',\n",
       " 'C:/Users/Muhammad Kashif/OneDrive/Documents/FIRE/fire_dataset/non_fire_images\\\\non_fire.154.png',\n",
       " 'C:/Users/Muhammad Kashif/OneDrive/Documents/FIRE/fire_dataset/non_fire_images\\\\non_fire.155.png',\n",
       " 'C:/Users/Muhammad Kashif/OneDrive/Documents/FIRE/fire_dataset/non_fire_images\\\\non_fire.156.png',\n",
       " 'C:/Users/Muhammad Kashif/OneDrive/Documents/FIRE/fire_dataset/non_fire_images\\\\non_fire.157.png',\n",
       " 'C:/Users/Muhammad Kashif/OneDrive/Documents/FIRE/fire_dataset/non_fire_images\\\\non_fire.158.png',\n",
       " 'C:/Users/Muhammad Kashif/OneDrive/Documents/FIRE/fire_dataset/non_fire_images\\\\non_fire.159.png',\n",
       " 'C:/Users/Muhammad Kashif/OneDrive/Documents/FIRE/fire_dataset/non_fire_images\\\\non_fire.16.png',\n",
       " 'C:/Users/Muhammad Kashif/OneDrive/Documents/FIRE/fire_dataset/non_fire_images\\\\non_fire.160.png',\n",
       " 'C:/Users/Muhammad Kashif/OneDrive/Documents/FIRE/fire_dataset/non_fire_images\\\\non_fire.161.png',\n",
       " 'C:/Users/Muhammad Kashif/OneDrive/Documents/FIRE/fire_dataset/non_fire_images\\\\non_fire.162.png',\n",
       " 'C:/Users/Muhammad Kashif/OneDrive/Documents/FIRE/fire_dataset/non_fire_images\\\\non_fire.163.png',\n",
       " 'C:/Users/Muhammad Kashif/OneDrive/Documents/FIRE/fire_dataset/non_fire_images\\\\non_fire.164.png',\n",
       " 'C:/Users/Muhammad Kashif/OneDrive/Documents/FIRE/fire_dataset/non_fire_images\\\\non_fire.165.png',\n",
       " 'C:/Users/Muhammad Kashif/OneDrive/Documents/FIRE/fire_dataset/non_fire_images\\\\non_fire.166.png',\n",
       " 'C:/Users/Muhammad Kashif/OneDrive/Documents/FIRE/fire_dataset/non_fire_images\\\\non_fire.167.png',\n",
       " 'C:/Users/Muhammad Kashif/OneDrive/Documents/FIRE/fire_dataset/non_fire_images\\\\non_fire.168.png',\n",
       " 'C:/Users/Muhammad Kashif/OneDrive/Documents/FIRE/fire_dataset/non_fire_images\\\\non_fire.169.png',\n",
       " 'C:/Users/Muhammad Kashif/OneDrive/Documents/FIRE/fire_dataset/non_fire_images\\\\non_fire.17.png',\n",
       " 'C:/Users/Muhammad Kashif/OneDrive/Documents/FIRE/fire_dataset/non_fire_images\\\\non_fire.170.png',\n",
       " 'C:/Users/Muhammad Kashif/OneDrive/Documents/FIRE/fire_dataset/non_fire_images\\\\non_fire.171.png',\n",
       " 'C:/Users/Muhammad Kashif/OneDrive/Documents/FIRE/fire_dataset/non_fire_images\\\\non_fire.172.png',\n",
       " 'C:/Users/Muhammad Kashif/OneDrive/Documents/FIRE/fire_dataset/non_fire_images\\\\non_fire.173.png',\n",
       " 'C:/Users/Muhammad Kashif/OneDrive/Documents/FIRE/fire_dataset/non_fire_images\\\\non_fire.174.png',\n",
       " 'C:/Users/Muhammad Kashif/OneDrive/Documents/FIRE/fire_dataset/non_fire_images\\\\non_fire.175.png',\n",
       " 'C:/Users/Muhammad Kashif/OneDrive/Documents/FIRE/fire_dataset/non_fire_images\\\\non_fire.176.png',\n",
       " 'C:/Users/Muhammad Kashif/OneDrive/Documents/FIRE/fire_dataset/non_fire_images\\\\non_fire.177.png',\n",
       " 'C:/Users/Muhammad Kashif/OneDrive/Documents/FIRE/fire_dataset/non_fire_images\\\\non_fire.178.png',\n",
       " 'C:/Users/Muhammad Kashif/OneDrive/Documents/FIRE/fire_dataset/non_fire_images\\\\non_fire.179.png',\n",
       " 'C:/Users/Muhammad Kashif/OneDrive/Documents/FIRE/fire_dataset/non_fire_images\\\\non_fire.18.png',\n",
       " 'C:/Users/Muhammad Kashif/OneDrive/Documents/FIRE/fire_dataset/non_fire_images\\\\non_fire.180.png',\n",
       " 'C:/Users/Muhammad Kashif/OneDrive/Documents/FIRE/fire_dataset/non_fire_images\\\\non_fire.181.png',\n",
       " 'C:/Users/Muhammad Kashif/OneDrive/Documents/FIRE/fire_dataset/non_fire_images\\\\non_fire.182.png',\n",
       " 'C:/Users/Muhammad Kashif/OneDrive/Documents/FIRE/fire_dataset/non_fire_images\\\\non_fire.183.png',\n",
       " 'C:/Users/Muhammad Kashif/OneDrive/Documents/FIRE/fire_dataset/non_fire_images\\\\non_fire.184.png',\n",
       " 'C:/Users/Muhammad Kashif/OneDrive/Documents/FIRE/fire_dataset/non_fire_images\\\\non_fire.185.png',\n",
       " 'C:/Users/Muhammad Kashif/OneDrive/Documents/FIRE/fire_dataset/non_fire_images\\\\non_fire.186.png',\n",
       " 'C:/Users/Muhammad Kashif/OneDrive/Documents/FIRE/fire_dataset/non_fire_images\\\\non_fire.187.png',\n",
       " 'C:/Users/Muhammad Kashif/OneDrive/Documents/FIRE/fire_dataset/non_fire_images\\\\non_fire.188.png',\n",
       " 'C:/Users/Muhammad Kashif/OneDrive/Documents/FIRE/fire_dataset/non_fire_images\\\\non_fire.189.png',\n",
       " 'C:/Users/Muhammad Kashif/OneDrive/Documents/FIRE/fire_dataset/non_fire_images\\\\non_fire.19.png',\n",
       " 'C:/Users/Muhammad Kashif/OneDrive/Documents/FIRE/fire_dataset/non_fire_images\\\\non_fire.190.png',\n",
       " 'C:/Users/Muhammad Kashif/OneDrive/Documents/FIRE/fire_dataset/non_fire_images\\\\non_fire.191.png',\n",
       " 'C:/Users/Muhammad Kashif/OneDrive/Documents/FIRE/fire_dataset/non_fire_images\\\\non_fire.192.png',\n",
       " 'C:/Users/Muhammad Kashif/OneDrive/Documents/FIRE/fire_dataset/non_fire_images\\\\non_fire.193.png',\n",
       " 'C:/Users/Muhammad Kashif/OneDrive/Documents/FIRE/fire_dataset/non_fire_images\\\\non_fire.194.png',\n",
       " 'C:/Users/Muhammad Kashif/OneDrive/Documents/FIRE/fire_dataset/non_fire_images\\\\non_fire.195.png',\n",
       " 'C:/Users/Muhammad Kashif/OneDrive/Documents/FIRE/fire_dataset/non_fire_images\\\\non_fire.196.png',\n",
       " 'C:/Users/Muhammad Kashif/OneDrive/Documents/FIRE/fire_dataset/non_fire_images\\\\non_fire.197.png',\n",
       " 'C:/Users/Muhammad Kashif/OneDrive/Documents/FIRE/fire_dataset/non_fire_images\\\\non_fire.198.png',\n",
       " 'C:/Users/Muhammad Kashif/OneDrive/Documents/FIRE/fire_dataset/non_fire_images\\\\non_fire.199.png',\n",
       " 'C:/Users/Muhammad Kashif/OneDrive/Documents/FIRE/fire_dataset/non_fire_images\\\\non_fire.2.png',\n",
       " 'C:/Users/Muhammad Kashif/OneDrive/Documents/FIRE/fire_dataset/non_fire_images\\\\non_fire.20.png',\n",
       " 'C:/Users/Muhammad Kashif/OneDrive/Documents/FIRE/fire_dataset/non_fire_images\\\\non_fire.200.png',\n",
       " 'C:/Users/Muhammad Kashif/OneDrive/Documents/FIRE/fire_dataset/non_fire_images\\\\non_fire.201.png',\n",
       " 'C:/Users/Muhammad Kashif/OneDrive/Documents/FIRE/fire_dataset/non_fire_images\\\\non_fire.202.png',\n",
       " 'C:/Users/Muhammad Kashif/OneDrive/Documents/FIRE/fire_dataset/non_fire_images\\\\non_fire.203.png',\n",
       " 'C:/Users/Muhammad Kashif/OneDrive/Documents/FIRE/fire_dataset/non_fire_images\\\\non_fire.204.png',\n",
       " 'C:/Users/Muhammad Kashif/OneDrive/Documents/FIRE/fire_dataset/non_fire_images\\\\non_fire.205.png',\n",
       " 'C:/Users/Muhammad Kashif/OneDrive/Documents/FIRE/fire_dataset/non_fire_images\\\\non_fire.206.png',\n",
       " 'C:/Users/Muhammad Kashif/OneDrive/Documents/FIRE/fire_dataset/non_fire_images\\\\non_fire.207.png',\n",
       " 'C:/Users/Muhammad Kashif/OneDrive/Documents/FIRE/fire_dataset/non_fire_images\\\\non_fire.208.png',\n",
       " 'C:/Users/Muhammad Kashif/OneDrive/Documents/FIRE/fire_dataset/non_fire_images\\\\non_fire.209.png',\n",
       " 'C:/Users/Muhammad Kashif/OneDrive/Documents/FIRE/fire_dataset/non_fire_images\\\\non_fire.21.png',\n",
       " 'C:/Users/Muhammad Kashif/OneDrive/Documents/FIRE/fire_dataset/non_fire_images\\\\non_fire.210.png',\n",
       " 'C:/Users/Muhammad Kashif/OneDrive/Documents/FIRE/fire_dataset/non_fire_images\\\\non_fire.211.png',\n",
       " 'C:/Users/Muhammad Kashif/OneDrive/Documents/FIRE/fire_dataset/non_fire_images\\\\non_fire.212.png',\n",
       " 'C:/Users/Muhammad Kashif/OneDrive/Documents/FIRE/fire_dataset/non_fire_images\\\\non_fire.213.png',\n",
       " 'C:/Users/Muhammad Kashif/OneDrive/Documents/FIRE/fire_dataset/non_fire_images\\\\non_fire.214.png',\n",
       " 'C:/Users/Muhammad Kashif/OneDrive/Documents/FIRE/fire_dataset/non_fire_images\\\\non_fire.215.png',\n",
       " 'C:/Users/Muhammad Kashif/OneDrive/Documents/FIRE/fire_dataset/non_fire_images\\\\non_fire.216.png',\n",
       " 'C:/Users/Muhammad Kashif/OneDrive/Documents/FIRE/fire_dataset/non_fire_images\\\\non_fire.217.png',\n",
       " 'C:/Users/Muhammad Kashif/OneDrive/Documents/FIRE/fire_dataset/non_fire_images\\\\non_fire.218.png',\n",
       " 'C:/Users/Muhammad Kashif/OneDrive/Documents/FIRE/fire_dataset/non_fire_images\\\\non_fire.219.png',\n",
       " 'C:/Users/Muhammad Kashif/OneDrive/Documents/FIRE/fire_dataset/non_fire_images\\\\non_fire.22.png',\n",
       " 'C:/Users/Muhammad Kashif/OneDrive/Documents/FIRE/fire_dataset/non_fire_images\\\\non_fire.220.png',\n",
       " 'C:/Users/Muhammad Kashif/OneDrive/Documents/FIRE/fire_dataset/non_fire_images\\\\non_fire.221.png',\n",
       " 'C:/Users/Muhammad Kashif/OneDrive/Documents/FIRE/fire_dataset/non_fire_images\\\\non_fire.222.png',\n",
       " 'C:/Users/Muhammad Kashif/OneDrive/Documents/FIRE/fire_dataset/non_fire_images\\\\non_fire.223.png',\n",
       " 'C:/Users/Muhammad Kashif/OneDrive/Documents/FIRE/fire_dataset/non_fire_images\\\\non_fire.224.png',\n",
       " 'C:/Users/Muhammad Kashif/OneDrive/Documents/FIRE/fire_dataset/non_fire_images\\\\non_fire.225.png',\n",
       " 'C:/Users/Muhammad Kashif/OneDrive/Documents/FIRE/fire_dataset/non_fire_images\\\\non_fire.226.png',\n",
       " 'C:/Users/Muhammad Kashif/OneDrive/Documents/FIRE/fire_dataset/non_fire_images\\\\non_fire.227.png',\n",
       " 'C:/Users/Muhammad Kashif/OneDrive/Documents/FIRE/fire_dataset/non_fire_images\\\\non_fire.228.png',\n",
       " 'C:/Users/Muhammad Kashif/OneDrive/Documents/FIRE/fire_dataset/non_fire_images\\\\non_fire.229.png',\n",
       " 'C:/Users/Muhammad Kashif/OneDrive/Documents/FIRE/fire_dataset/non_fire_images\\\\non_fire.23.png',\n",
       " 'C:/Users/Muhammad Kashif/OneDrive/Documents/FIRE/fire_dataset/non_fire_images\\\\non_fire.230.png',\n",
       " 'C:/Users/Muhammad Kashif/OneDrive/Documents/FIRE/fire_dataset/non_fire_images\\\\non_fire.231.png',\n",
       " 'C:/Users/Muhammad Kashif/OneDrive/Documents/FIRE/fire_dataset/non_fire_images\\\\non_fire.232.png',\n",
       " 'C:/Users/Muhammad Kashif/OneDrive/Documents/FIRE/fire_dataset/non_fire_images\\\\non_fire.233.png',\n",
       " 'C:/Users/Muhammad Kashif/OneDrive/Documents/FIRE/fire_dataset/non_fire_images\\\\non_fire.234.png',\n",
       " 'C:/Users/Muhammad Kashif/OneDrive/Documents/FIRE/fire_dataset/non_fire_images\\\\non_fire.235.png',\n",
       " 'C:/Users/Muhammad Kashif/OneDrive/Documents/FIRE/fire_dataset/non_fire_images\\\\non_fire.236.png',\n",
       " 'C:/Users/Muhammad Kashif/OneDrive/Documents/FIRE/fire_dataset/non_fire_images\\\\non_fire.237.png',\n",
       " 'C:/Users/Muhammad Kashif/OneDrive/Documents/FIRE/fire_dataset/non_fire_images\\\\non_fire.238.png',\n",
       " 'C:/Users/Muhammad Kashif/OneDrive/Documents/FIRE/fire_dataset/non_fire_images\\\\non_fire.239.png',\n",
       " 'C:/Users/Muhammad Kashif/OneDrive/Documents/FIRE/fire_dataset/non_fire_images\\\\non_fire.24.png',\n",
       " 'C:/Users/Muhammad Kashif/OneDrive/Documents/FIRE/fire_dataset/non_fire_images\\\\non_fire.240.png',\n",
       " 'C:/Users/Muhammad Kashif/OneDrive/Documents/FIRE/fire_dataset/non_fire_images\\\\non_fire.241.png',\n",
       " 'C:/Users/Muhammad Kashif/OneDrive/Documents/FIRE/fire_dataset/non_fire_images\\\\non_fire.242.png',\n",
       " 'C:/Users/Muhammad Kashif/OneDrive/Documents/FIRE/fire_dataset/non_fire_images\\\\non_fire.243.png',\n",
       " 'C:/Users/Muhammad Kashif/OneDrive/Documents/FIRE/fire_dataset/non_fire_images\\\\non_fire.244.png',\n",
       " 'C:/Users/Muhammad Kashif/OneDrive/Documents/FIRE/fire_dataset/non_fire_images\\\\non_fire.25.png',\n",
       " 'C:/Users/Muhammad Kashif/OneDrive/Documents/FIRE/fire_dataset/non_fire_images\\\\non_fire.26.png',\n",
       " 'C:/Users/Muhammad Kashif/OneDrive/Documents/FIRE/fire_dataset/non_fire_images\\\\non_fire.27.png',\n",
       " 'C:/Users/Muhammad Kashif/OneDrive/Documents/FIRE/fire_dataset/non_fire_images\\\\non_fire.28.png',\n",
       " 'C:/Users/Muhammad Kashif/OneDrive/Documents/FIRE/fire_dataset/non_fire_images\\\\non_fire.29.png',\n",
       " 'C:/Users/Muhammad Kashif/OneDrive/Documents/FIRE/fire_dataset/non_fire_images\\\\non_fire.3.png',\n",
       " 'C:/Users/Muhammad Kashif/OneDrive/Documents/FIRE/fire_dataset/non_fire_images\\\\non_fire.30.png',\n",
       " 'C:/Users/Muhammad Kashif/OneDrive/Documents/FIRE/fire_dataset/non_fire_images\\\\non_fire.31.png',\n",
       " 'C:/Users/Muhammad Kashif/OneDrive/Documents/FIRE/fire_dataset/non_fire_images\\\\non_fire.32.png',\n",
       " 'C:/Users/Muhammad Kashif/OneDrive/Documents/FIRE/fire_dataset/non_fire_images\\\\non_fire.33.png',\n",
       " 'C:/Users/Muhammad Kashif/OneDrive/Documents/FIRE/fire_dataset/non_fire_images\\\\non_fire.34.png',\n",
       " 'C:/Users/Muhammad Kashif/OneDrive/Documents/FIRE/fire_dataset/non_fire_images\\\\non_fire.35.png',\n",
       " 'C:/Users/Muhammad Kashif/OneDrive/Documents/FIRE/fire_dataset/non_fire_images\\\\non_fire.36.png',\n",
       " 'C:/Users/Muhammad Kashif/OneDrive/Documents/FIRE/fire_dataset/non_fire_images\\\\non_fire.37.png',\n",
       " 'C:/Users/Muhammad Kashif/OneDrive/Documents/FIRE/fire_dataset/non_fire_images\\\\non_fire.38.png',\n",
       " 'C:/Users/Muhammad Kashif/OneDrive/Documents/FIRE/fire_dataset/non_fire_images\\\\non_fire.39.png',\n",
       " 'C:/Users/Muhammad Kashif/OneDrive/Documents/FIRE/fire_dataset/non_fire_images\\\\non_fire.4.png',\n",
       " 'C:/Users/Muhammad Kashif/OneDrive/Documents/FIRE/fire_dataset/non_fire_images\\\\non_fire.40.png',\n",
       " 'C:/Users/Muhammad Kashif/OneDrive/Documents/FIRE/fire_dataset/non_fire_images\\\\non_fire.41.png',\n",
       " 'C:/Users/Muhammad Kashif/OneDrive/Documents/FIRE/fire_dataset/non_fire_images\\\\non_fire.42.png',\n",
       " 'C:/Users/Muhammad Kashif/OneDrive/Documents/FIRE/fire_dataset/non_fire_images\\\\non_fire.43.png',\n",
       " 'C:/Users/Muhammad Kashif/OneDrive/Documents/FIRE/fire_dataset/non_fire_images\\\\non_fire.44.png',\n",
       " 'C:/Users/Muhammad Kashif/OneDrive/Documents/FIRE/fire_dataset/non_fire_images\\\\non_fire.45.png',\n",
       " 'C:/Users/Muhammad Kashif/OneDrive/Documents/FIRE/fire_dataset/non_fire_images\\\\non_fire.46.png',\n",
       " 'C:/Users/Muhammad Kashif/OneDrive/Documents/FIRE/fire_dataset/non_fire_images\\\\non_fire.47.png',\n",
       " 'C:/Users/Muhammad Kashif/OneDrive/Documents/FIRE/fire_dataset/non_fire_images\\\\non_fire.48.png',\n",
       " 'C:/Users/Muhammad Kashif/OneDrive/Documents/FIRE/fire_dataset/non_fire_images\\\\non_fire.49.png',\n",
       " 'C:/Users/Muhammad Kashif/OneDrive/Documents/FIRE/fire_dataset/non_fire_images\\\\non_fire.5.png',\n",
       " 'C:/Users/Muhammad Kashif/OneDrive/Documents/FIRE/fire_dataset/non_fire_images\\\\non_fire.50.png',\n",
       " 'C:/Users/Muhammad Kashif/OneDrive/Documents/FIRE/fire_dataset/non_fire_images\\\\non_fire.51.png',\n",
       " 'C:/Users/Muhammad Kashif/OneDrive/Documents/FIRE/fire_dataset/non_fire_images\\\\non_fire.52.png',\n",
       " 'C:/Users/Muhammad Kashif/OneDrive/Documents/FIRE/fire_dataset/non_fire_images\\\\non_fire.53.png',\n",
       " 'C:/Users/Muhammad Kashif/OneDrive/Documents/FIRE/fire_dataset/non_fire_images\\\\non_fire.54.png',\n",
       " 'C:/Users/Muhammad Kashif/OneDrive/Documents/FIRE/fire_dataset/non_fire_images\\\\non_fire.55.png',\n",
       " 'C:/Users/Muhammad Kashif/OneDrive/Documents/FIRE/fire_dataset/non_fire_images\\\\non_fire.56.png',\n",
       " 'C:/Users/Muhammad Kashif/OneDrive/Documents/FIRE/fire_dataset/non_fire_images\\\\non_fire.57.png',\n",
       " 'C:/Users/Muhammad Kashif/OneDrive/Documents/FIRE/fire_dataset/non_fire_images\\\\non_fire.58.png',\n",
       " 'C:/Users/Muhammad Kashif/OneDrive/Documents/FIRE/fire_dataset/non_fire_images\\\\non_fire.59.png',\n",
       " 'C:/Users/Muhammad Kashif/OneDrive/Documents/FIRE/fire_dataset/non_fire_images\\\\non_fire.6.png',\n",
       " 'C:/Users/Muhammad Kashif/OneDrive/Documents/FIRE/fire_dataset/non_fire_images\\\\non_fire.60.png',\n",
       " 'C:/Users/Muhammad Kashif/OneDrive/Documents/FIRE/fire_dataset/non_fire_images\\\\non_fire.61.png',\n",
       " 'C:/Users/Muhammad Kashif/OneDrive/Documents/FIRE/fire_dataset/non_fire_images\\\\non_fire.62.png',\n",
       " 'C:/Users/Muhammad Kashif/OneDrive/Documents/FIRE/fire_dataset/non_fire_images\\\\non_fire.63.png',\n",
       " 'C:/Users/Muhammad Kashif/OneDrive/Documents/FIRE/fire_dataset/non_fire_images\\\\non_fire.64.png',\n",
       " 'C:/Users/Muhammad Kashif/OneDrive/Documents/FIRE/fire_dataset/non_fire_images\\\\non_fire.65.png',\n",
       " 'C:/Users/Muhammad Kashif/OneDrive/Documents/FIRE/fire_dataset/non_fire_images\\\\non_fire.66.png',\n",
       " 'C:/Users/Muhammad Kashif/OneDrive/Documents/FIRE/fire_dataset/non_fire_images\\\\non_fire.67.png',\n",
       " 'C:/Users/Muhammad Kashif/OneDrive/Documents/FIRE/fire_dataset/non_fire_images\\\\non_fire.68.png',\n",
       " 'C:/Users/Muhammad Kashif/OneDrive/Documents/FIRE/fire_dataset/non_fire_images\\\\non_fire.69.png',\n",
       " 'C:/Users/Muhammad Kashif/OneDrive/Documents/FIRE/fire_dataset/non_fire_images\\\\non_fire.7.png',\n",
       " 'C:/Users/Muhammad Kashif/OneDrive/Documents/FIRE/fire_dataset/non_fire_images\\\\non_fire.70.png',\n",
       " 'C:/Users/Muhammad Kashif/OneDrive/Documents/FIRE/fire_dataset/non_fire_images\\\\non_fire.71.png',\n",
       " 'C:/Users/Muhammad Kashif/OneDrive/Documents/FIRE/fire_dataset/non_fire_images\\\\non_fire.72.png',\n",
       " 'C:/Users/Muhammad Kashif/OneDrive/Documents/FIRE/fire_dataset/non_fire_images\\\\non_fire.73.png',\n",
       " 'C:/Users/Muhammad Kashif/OneDrive/Documents/FIRE/fire_dataset/non_fire_images\\\\non_fire.74.png',\n",
       " 'C:/Users/Muhammad Kashif/OneDrive/Documents/FIRE/fire_dataset/non_fire_images\\\\non_fire.75.png',\n",
       " 'C:/Users/Muhammad Kashif/OneDrive/Documents/FIRE/fire_dataset/non_fire_images\\\\non_fire.76.png',\n",
       " 'C:/Users/Muhammad Kashif/OneDrive/Documents/FIRE/fire_dataset/non_fire_images\\\\non_fire.77.png',\n",
       " 'C:/Users/Muhammad Kashif/OneDrive/Documents/FIRE/fire_dataset/non_fire_images\\\\non_fire.78.png',\n",
       " 'C:/Users/Muhammad Kashif/OneDrive/Documents/FIRE/fire_dataset/non_fire_images\\\\non_fire.79.png',\n",
       " 'C:/Users/Muhammad Kashif/OneDrive/Documents/FIRE/fire_dataset/non_fire_images\\\\non_fire.8.png',\n",
       " 'C:/Users/Muhammad Kashif/OneDrive/Documents/FIRE/fire_dataset/non_fire_images\\\\non_fire.80.png',\n",
       " 'C:/Users/Muhammad Kashif/OneDrive/Documents/FIRE/fire_dataset/non_fire_images\\\\non_fire.81.png',\n",
       " 'C:/Users/Muhammad Kashif/OneDrive/Documents/FIRE/fire_dataset/non_fire_images\\\\non_fire.82.png',\n",
       " 'C:/Users/Muhammad Kashif/OneDrive/Documents/FIRE/fire_dataset/non_fire_images\\\\non_fire.83.png',\n",
       " 'C:/Users/Muhammad Kashif/OneDrive/Documents/FIRE/fire_dataset/non_fire_images\\\\non_fire.84.png',\n",
       " 'C:/Users/Muhammad Kashif/OneDrive/Documents/FIRE/fire_dataset/non_fire_images\\\\non_fire.85.png',\n",
       " 'C:/Users/Muhammad Kashif/OneDrive/Documents/FIRE/fire_dataset/non_fire_images\\\\non_fire.86.png',\n",
       " 'C:/Users/Muhammad Kashif/OneDrive/Documents/FIRE/fire_dataset/non_fire_images\\\\non_fire.87.png',\n",
       " 'C:/Users/Muhammad Kashif/OneDrive/Documents/FIRE/fire_dataset/non_fire_images\\\\non_fire.88.png',\n",
       " 'C:/Users/Muhammad Kashif/OneDrive/Documents/FIRE/fire_dataset/non_fire_images\\\\non_fire.89.png',\n",
       " 'C:/Users/Muhammad Kashif/OneDrive/Documents/FIRE/fire_dataset/non_fire_images\\\\non_fire.9.png',\n",
       " 'C:/Users/Muhammad Kashif/OneDrive/Documents/FIRE/fire_dataset/non_fire_images\\\\non_fire.90.png',\n",
       " 'C:/Users/Muhammad Kashif/OneDrive/Documents/FIRE/fire_dataset/non_fire_images\\\\non_fire.91.png',\n",
       " 'C:/Users/Muhammad Kashif/OneDrive/Documents/FIRE/fire_dataset/non_fire_images\\\\non_fire.92.png',\n",
       " 'C:/Users/Muhammad Kashif/OneDrive/Documents/FIRE/fire_dataset/non_fire_images\\\\non_fire.93.png',\n",
       " 'C:/Users/Muhammad Kashif/OneDrive/Documents/FIRE/fire_dataset/non_fire_images\\\\non_fire.94.png',\n",
       " 'C:/Users/Muhammad Kashif/OneDrive/Documents/FIRE/fire_dataset/non_fire_images\\\\non_fire.95.png',\n",
       " 'C:/Users/Muhammad Kashif/OneDrive/Documents/FIRE/fire_dataset/non_fire_images\\\\non_fire.96.png',\n",
       " 'C:/Users/Muhammad Kashif/OneDrive/Documents/FIRE/fire_dataset/non_fire_images\\\\non_fire.97.png',\n",
       " 'C:/Users/Muhammad Kashif/OneDrive/Documents/FIRE/fire_dataset/non_fire_images\\\\non_fire.98.png',\n",
       " 'C:/Users/Muhammad Kashif/OneDrive/Documents/FIRE/fire_dataset/non_fire_images\\\\non_fire.99.png']"
      ]
     },
     "execution_count": 3,
     "metadata": {},
     "output_type": "execute_result"
    }
   ],
   "source": [
    "lst_non_fire_img"
   ]
  },
  {
   "cell_type": "code",
   "execution_count": 4,
   "id": "40aad8b5",
   "metadata": {},
   "outputs": [],
   "source": [
    "#merging the two datasets\n",
    "fire_list = []\n",
    "nonfire_list = []\n",
    "for x in lst_fire_img:\n",
    "  fire_list.append([x,\"Fire\"])\n",
    "for x in lst_non_fire_img:\n",
    "  nonfire_list.append([x,\"No_fire\"])\n",
    "\n",
    "dataset = fire_list+nonfire_list "
   ]
  },
  {
   "cell_type": "code",
   "execution_count": 5,
   "id": "e3bd68f4",
   "metadata": {},
   "outputs": [
    {
     "name": "stdout",
     "output_type": "stream",
     "text": [
      "                                               image label\n",
      "0  C:/Users/Muhammad Kashif/OneDrive/Documents/FI...  Fire\n",
      "1  C:/Users/Muhammad Kashif/OneDrive/Documents/FI...  Fire\n"
     ]
    }
   ],
   "source": [
    "#Creating a Dataframe\n",
    "df = pd.DataFrame(dataset,columns = ['image','label'])\n",
    "print(df.head(2))"
   ]
  },
  {
   "cell_type": "code",
   "execution_count": 6,
   "id": "0dfe3b9a",
   "metadata": {},
   "outputs": [
    {
     "data": {
      "text/html": [
       "<div>\n",
       "<style scoped>\n",
       "    .dataframe tbody tr th:only-of-type {\n",
       "        vertical-align: middle;\n",
       "    }\n",
       "\n",
       "    .dataframe tbody tr th {\n",
       "        vertical-align: top;\n",
       "    }\n",
       "\n",
       "    .dataframe thead th {\n",
       "        text-align: right;\n",
       "    }\n",
       "</style>\n",
       "<table border=\"1\" class=\"dataframe\">\n",
       "  <thead>\n",
       "    <tr style=\"text-align: right;\">\n",
       "      <th></th>\n",
       "      <th>image</th>\n",
       "      <th>label</th>\n",
       "    </tr>\n",
       "  </thead>\n",
       "  <tbody>\n",
       "    <tr>\n",
       "      <th>0</th>\n",
       "      <td>C:/Users/Muhammad Kashif/OneDrive/Documents/FI...</td>\n",
       "      <td>Fire</td>\n",
       "    </tr>\n",
       "    <tr>\n",
       "      <th>1</th>\n",
       "      <td>C:/Users/Muhammad Kashif/OneDrive/Documents/FI...</td>\n",
       "      <td>Fire</td>\n",
       "    </tr>\n",
       "    <tr>\n",
       "      <th>2</th>\n",
       "      <td>C:/Users/Muhammad Kashif/OneDrive/Documents/FI...</td>\n",
       "      <td>No_fire</td>\n",
       "    </tr>\n",
       "    <tr>\n",
       "      <th>3</th>\n",
       "      <td>C:/Users/Muhammad Kashif/OneDrive/Documents/FI...</td>\n",
       "      <td>Fire</td>\n",
       "    </tr>\n",
       "    <tr>\n",
       "      <th>4</th>\n",
       "      <td>C:/Users/Muhammad Kashif/OneDrive/Documents/FI...</td>\n",
       "      <td>Fire</td>\n",
       "    </tr>\n",
       "  </tbody>\n",
       "</table>\n",
       "</div>"
      ],
      "text/plain": [
       "                                               image    label\n",
       "0  C:/Users/Muhammad Kashif/OneDrive/Documents/FI...     Fire\n",
       "1  C:/Users/Muhammad Kashif/OneDrive/Documents/FI...     Fire\n",
       "2  C:/Users/Muhammad Kashif/OneDrive/Documents/FI...  No_fire\n",
       "3  C:/Users/Muhammad Kashif/OneDrive/Documents/FI...     Fire\n",
       "4  C:/Users/Muhammad Kashif/OneDrive/Documents/FI...     Fire"
      ]
     },
     "execution_count": 6,
     "metadata": {},
     "output_type": "execute_result"
    }
   ],
   "source": [
    "#print(df.shape)\n",
    "\n",
    "df = df.sample(frac=1).reset_index(drop=True)\n",
    "df.head()\n"
   ]
  },
  {
   "cell_type": "code",
   "execution_count": 7,
   "id": "4a1a47ac",
   "metadata": {},
   "outputs": [
    {
     "name": "stdout",
     "output_type": "stream",
     "text": [
      "TRAIN SHAPE:  (799, 2)\n",
      "TEST SHAPE:  (200, 2)\n"
     ]
    }
   ],
   "source": [
    "from tensorflow.keras.preprocessing.image import ImageDataGenerator\n",
    "\n",
    "Train_Generator = ImageDataGenerator(rescale=1./255,\n",
    "                                    shear_range=0.3,\n",
    "                                    zoom_range=0.2,\n",
    "                                    brightness_range=[0.2,0.9],\n",
    "                                    rotation_range=30,\n",
    "                                    horizontal_flip=True,\n",
    "                                    vertical_flip=True,\n",
    "                                    fill_mode=\"nearest\",\n",
    "                                    validation_split=0.1)\n",
    "\n",
    "Test_Generator = ImageDataGenerator(rescale=1./255)\n",
    "\n",
    "from sklearn.model_selection import train_test_split\n",
    "Train_Data,Test_Data = train_test_split(df,test_size=0.2,random_state=42,shuffle=True)\n",
    "\n",
    "print(\"TRAIN SHAPE: \",Train_Data.shape)\n",
    "print(\"TEST SHAPE: \",Test_Data.shape)\n"
   ]
  },
  {
   "cell_type": "code",
   "execution_count": 8,
   "id": "5a3ffe48",
   "metadata": {},
   "outputs": [
    {
     "name": "stdout",
     "output_type": "stream",
     "text": [
      "Found 720 validated image filenames belonging to 2 classes.\n",
      "Found 79 validated image filenames belonging to 2 classes.\n",
      "Found 200 validated image filenames belonging to 2 classes.\n"
     ]
    }
   ],
   "source": [
    "Train_IMG_Set = Train_Generator.flow_from_dataframe(dataframe=Train_Data,\n",
    "                                                   x_col=\"image\",\n",
    "                                                   y_col=\"label\",\n",
    "                                                   color_mode=\"rgb\",\n",
    "                                                   class_mode=\"categorical\",\n",
    "                                                   batch_size=32,\n",
    "                                                   subset=\"training\")\n",
    "\n",
    "Validation_IMG_Set = Train_Generator.flow_from_dataframe(dataframe=Train_Data,\n",
    "                                                   x_col=\"image\",\n",
    "                                                   y_col=\"label\",\n",
    "                                                   color_mode=\"rgb\",\n",
    "                                                   class_mode=\"categorical\",\n",
    "                                                   batch_size=32,\n",
    "                                                   subset=\"validation\")\n",
    "\n",
    "Test_IMG_Set = Test_Generator.flow_from_dataframe(dataframe=Test_Data,\n",
    "                                                 x_col=\"image\",\n",
    "                                                 y_col=\"label\",\n",
    "                                                 color_mode=\"rgb\",\n",
    "                                                 class_mode=\"categorical\",\n",
    "                                                 batch_size=32)"
   ]
  },
  {
   "cell_type": "code",
   "execution_count": 9,
   "id": "b234f77e",
   "metadata": {},
   "outputs": [
    {
     "name": "stdout",
     "output_type": "stream",
     "text": [
      "DATA SHAPE:  (32, 256, 256, 3)\n",
      "LABEL SHAPE:  (32, 2)\n",
      "DATA SHAPE:  (32, 256, 256, 3)\n",
      "LABEL SHAPE:  (32, 2)\n",
      "DATA SHAPE:  (32, 256, 256, 3)\n",
      "LABEL SHAPE:  (32, 2)\n"
     ]
    }
   ],
   "source": [
    "for data_batch,label_batch in Train_IMG_Set:\n",
    "    print(\"DATA SHAPE: \",data_batch.shape)\n",
    "    print(\"LABEL SHAPE: \",label_batch.shape)\n",
    "    break\n",
    "\n",
    "for data_batch,label_batch in Validation_IMG_Set:\n",
    "    print(\"DATA SHAPE: \",data_batch.shape)\n",
    "    print(\"LABEL SHAPE: \",label_batch.shape)\n",
    "    break\n",
    "\n",
    "for data_batch,label_batch in Test_IMG_Set:\n",
    "    print(\"DATA SHAPE: \",data_batch.shape)\n",
    "    print(\"LABEL SHAPE: \",label_batch.shape)\n",
    "    break"
   ]
  },
  {
   "cell_type": "code",
   "execution_count": 10,
   "id": "a95f3840",
   "metadata": {},
   "outputs": [
    {
     "name": "stdout",
     "output_type": "stream",
     "text": [
      "TRAIN: \n",
      "{'Fire': 0, 'No_fire': 1}\n",
      "[0, 0, 0, 1, 0]\n",
      "(256, 256, 3)\n",
      "------------------------------------------------------------\n",
      "VALIDATION: \n",
      "{'Fire': 0, 'No_fire': 1}\n",
      "[0, 0, 0, 0, 0]\n",
      "(256, 256, 3)\n",
      "------------------------------------------------------------\n",
      "TEST: \n",
      "{'Fire': 0, 'No_fire': 1}\n",
      "[0, 0, 0, 0, 0]\n",
      "(256, 256, 3)\n"
     ]
    }
   ],
   "source": [
    "print(\"TRAIN: \")\n",
    "print(Train_IMG_Set.class_indices)\n",
    "print(Train_IMG_Set.classes[0:5])\n",
    "print(Train_IMG_Set.image_shape)\n",
    "print(\"---\"*20)\n",
    "print(\"VALIDATION: \")\n",
    "print(Validation_IMG_Set.class_indices)\n",
    "print(Validation_IMG_Set.classes[0:5])\n",
    "print(Validation_IMG_Set.image_shape)\n",
    "print(\"---\"*20)\n",
    "print(\"TEST: \")\n",
    "print(Test_IMG_Set.class_indices)\n",
    "print(Test_IMG_Set.classes[0:5])\n",
    "print(Test_IMG_Set.image_shape)"
   ]
  },
  {
   "cell_type": "code",
   "execution_count": 11,
   "id": "a7eeb743",
   "metadata": {},
   "outputs": [
    {
     "name": "stdout",
     "output_type": "stream",
     "text": [
      "Epoch 1/20\n",
      "23/23 [==============================] - 37s 2s/step - loss: 0.5256 - accuracy: 0.7389 - val_loss: 0.3228 - val_accuracy: 0.8228\n",
      "Epoch 2/20\n",
      "23/23 [==============================] - 25s 1s/step - loss: 0.3947 - accuracy: 0.8069 - val_loss: 0.2405 - val_accuracy: 0.9241\n",
      "Epoch 3/20\n",
      "23/23 [==============================] - 25s 1s/step - loss: 0.3044 - accuracy: 0.8778 - val_loss: 0.1807 - val_accuracy: 0.9241\n",
      "Epoch 4/20\n",
      "23/23 [==============================] - 25s 1s/step - loss: 0.2734 - accuracy: 0.8903 - val_loss: 0.1826 - val_accuracy: 0.9114\n",
      "Epoch 5/20\n",
      "23/23 [==============================] - 25s 1s/step - loss: 0.2638 - accuracy: 0.8903 - val_loss: 0.1471 - val_accuracy: 0.9620\n",
      "Epoch 6/20\n",
      "23/23 [==============================] - 26s 1s/step - loss: 0.2303 - accuracy: 0.9167 - val_loss: 0.1614 - val_accuracy: 0.9620\n",
      "Epoch 7/20\n",
      "23/23 [==============================] - 25s 1s/step - loss: 0.2097 - accuracy: 0.9194 - val_loss: 0.1214 - val_accuracy: 0.9620\n",
      "Epoch 8/20\n",
      "23/23 [==============================] - 25s 1s/step - loss: 0.2024 - accuracy: 0.9236 - val_loss: 0.1720 - val_accuracy: 0.9367\n",
      "Epoch 9/20\n",
      "23/23 [==============================] - 26s 1s/step - loss: 0.2269 - accuracy: 0.9097 - val_loss: 0.1596 - val_accuracy: 0.9367\n",
      "Epoch 10/20\n",
      "23/23 [==============================] - 26s 1s/step - loss: 0.1994 - accuracy: 0.9181 - val_loss: 0.1384 - val_accuracy: 0.9494\n",
      "Epoch 11/20\n",
      "23/23 [==============================] - 26s 1s/step - loss: 0.1987 - accuracy: 0.9292 - val_loss: 0.1353 - val_accuracy: 0.9620\n",
      "Epoch 12/20\n",
      "23/23 [==============================] - 25s 1s/step - loss: 0.1967 - accuracy: 0.9306 - val_loss: 0.3268 - val_accuracy: 0.8354\n",
      "Epoch 13/20\n",
      "23/23 [==============================] - 25s 1s/step - loss: 0.2454 - accuracy: 0.9028 - val_loss: 0.1531 - val_accuracy: 0.9494\n",
      "Epoch 14/20\n",
      "23/23 [==============================] - 26s 1s/step - loss: 0.1948 - accuracy: 0.9181 - val_loss: 0.1645 - val_accuracy: 0.9620\n",
      "Epoch 15/20\n",
      "23/23 [==============================] - 25s 1s/step - loss: 0.2139 - accuracy: 0.9222 - val_loss: 0.1138 - val_accuracy: 0.9620\n",
      "Epoch 16/20\n",
      "23/23 [==============================] - 25s 1s/step - loss: 0.1961 - accuracy: 0.9222 - val_loss: 0.1795 - val_accuracy: 0.9494\n",
      "Epoch 17/20\n",
      "23/23 [==============================] - 25s 1s/step - loss: 0.1919 - accuracy: 0.9181 - val_loss: 0.0957 - val_accuracy: 0.9747\n",
      "Epoch 18/20\n",
      "23/23 [==============================] - 27s 1s/step - loss: 0.1888 - accuracy: 0.9306 - val_loss: 0.1054 - val_accuracy: 0.9494\n",
      "Epoch 19/20\n",
      "23/23 [==============================] - 34s 2s/step - loss: 0.1742 - accuracy: 0.9403 - val_loss: 0.1242 - val_accuracy: 0.9494\n",
      "Epoch 20/20\n",
      "23/23 [==============================] - 29s 1s/step - loss: 0.1885 - accuracy: 0.9278 - val_loss: 0.1272 - val_accuracy: 0.9494\n"
     ]
    },
    {
     "name": "stderr",
     "output_type": "stream",
     "text": [
      "No artists with labels found to put in legend.  Note that artists whose label start with an underscore are ignored when legend() is called with no argument.\n"
     ]
    },
    {
     "data": {
      "image/png": "[encoded data removed]",
      "text/plain": [
       "<Figure size 640x480 with 1 Axes>"
      ]
     },
     "metadata": {},
     "output_type": "display_data"
    }
   ],
   "source": [
    "Model_Two = tf.keras.models.Sequential([\n",
    "  # inputs \n",
    "  tf.keras.layers.experimental.preprocessing.Rescaling(1./255),\n",
    "  tf.keras.layers.Flatten(input_shape=(256,)),\n",
    "  # hiddens layers\n",
    "  tf.keras.layers.Dense(128, activation='relu'),\n",
    "    tf.keras.layers.Dense(64, activation='relu'),\n",
    "  tf.keras.layers.Dropout(0.2),\n",
    "  # output layer\n",
    "  tf.keras.layers.Dense(2,activation=\"softmax\")\n",
    "])\n",
    "Call_Back = tf.keras.callbacks.EarlyStopping(monitor=\"loss\",patience=5,mode=\"min\")\n",
    "Model_Two.compile(optimizer = 'adam' , loss = 'categorical_crossentropy' , metrics = ['accuracy'])\n",
    "ANN_Model = Model_Two.fit(Train_IMG_Set,\n",
    "                          validation_data=Validation_IMG_Set,\n",
    "                          callbacks=Call_Back,\n",
    "                      epochs=20)\n",
    "\n",
    "plt.plot(ANN_Model.history[\"accuracy\"])\n",
    "plt.plot(ANN_Model.history[\"val_accuracy\"])\n",
    "plt.ylabel(\"ACCURACY\")\n",
    "plt.legend()\n",
    "plt.show()"
   ]
  },
  {
   "cell_type": "code",
   "execution_count": 12,
   "id": "9bf72554",
   "metadata": {},
   "outputs": [
    {
     "name": "stdout",
     "output_type": "stream",
     "text": [
      "7/7 [==============================] - 5s 738ms/step\n",
      "[0 0 0 0 0 0 0 1 0 0 0 1 0 0 0 0 0 0 1 0 0 0 0 0 1 0 0 0 1 0 0 0 0 0 1 0 0\n",
      " 0 0 1 1 0 0 0 1 1 1 0 0 0 0 1 0 0 0 0 0 0 0 0 0 0 0 0 0 0 0 1 0 0 0 1 0 1\n",
      " 0 0 0 1 0 0 0 0 1 0 0 0 0 0 1 0 0 0 0 0 0 0 0 0 0 0 0 0 0 0 0 0 0 0 0 0 0\n",
      " 0 0 0 0 1 1 0 0 0 0 0 0 0 0 0 0 0 0 1 0 0 1 0 1 1 0 1 1 1 0 0 1 0 0 1 0 0\n",
      " 1 1 0 0 0 0 0 0 0 1 0 0 0 1 0 0 0 1 1 0 0 0 1 1 0 0 0 0 1 0 1 0 0 0 0 0 0\n",
      " 0 0 0 1 0 0 0 0 0 0 0 0 0 0 0]\n"
     ]
    }
   ],
   "source": [
    "Prediction_Two = Model_Two.predict(Test_IMG_Set)\n",
    "Prediction_Two = Prediction_Two.argmax(axis=-1)\n",
    "print(Prediction_Two)"
   ]
  },
  {
   "cell_type": "code",
   "execution_count": 13,
   "id": "298561ad",
   "metadata": {},
   "outputs": [],
   "source": [
    "import tkinter as tk\n",
    "root= tk.Tk()"
   ]
  },
  {
   "cell_type": "code",
   "execution_count": 14,
   "id": "12cc10ed",
   "metadata": {},
   "outputs": [],
   "source": [
    "canvas1 = tk.Canvas(root, width = 1000, height = 1000)\n",
    "canvas1.pack()"
   ]
  },
  {
   "cell_type": "code",
   "execution_count": 15,
   "id": "ca1f0ca8",
   "metadata": {},
   "outputs": [
    {
     "data": {
      "text/plain": [
       "1"
      ]
     },
     "execution_count": 15,
     "metadata": {},
     "output_type": "execute_result"
    }
   ],
   "source": [
    "label1 = tk.Label(root, text='Fire Detection System', font=(\"Courier\",40),bg='black',fg='white')\n",
    "canvas1.create_window(450, 50, window=label1)"
   ]
  },
  {
   "cell_type": "code",
   "execution_count": 16,
   "id": "a9af8167",
   "metadata": {},
   "outputs": [],
   "source": [
    "from PIL import ImageTk, Image  \n",
    "from tkinter import filedialog\n",
    "import os\n",
    "root.geometry(\"550x300+300+150\")\n",
    "root.resizable(width=True, height=True)\n",
    "import glob\n",
    "import cv2\n",
    "import matplotlib.pyplot as plt\n",
    "import random\n",
    "import pandas as pd\n",
    "import numpy as np\n",
    "import seaborn as sns\n",
    "import tensorflow as tf\n",
    "from tensorflow.keras.models import Sequential\n",
    "from sklearn.model_selection import train_test_split\n",
    "from tensorflow.keras.layers import Conv2D,MaxPooling2D,Flatten,Dense\n",
    "from tensorflow.keras.callbacks import EarlyStopping\n",
    "from sklearn.metrics import confusion_matrix,classification_report"
   ]
  },
  {
   "cell_type": "code",
   "execution_count": 17,
   "id": "4c34c277",
   "metadata": {},
   "outputs": [],
   "source": [
    "def upload_file():\n",
    "    global img\n",
    "    global filename\n",
    "    global b2\n",
    "    f_types = [('Jpg Files', '*.jpg')]\n",
    "    filename = filedialog.askopenfilename(filetypes=f_types)\n",
    "    img=Image.open(filename)\n",
    "    image2=img.resize((300,300),Image.ANTIALIAS)\n",
    "    img = ImageTk.PhotoImage(image2)\n",
    "    b2 =tk.Label(root,image=img) # using Button \n",
    "    canvas1.create_window(250, 380, window=b2)"
   ]
  },
  {
   "cell_type": "code",
   "execution_count": 18,
   "id": "69cadbaa",
   "metadata": {},
   "outputs": [],
   "source": [
    "from tensorflow.keras.preprocessing import image\n",
    "import matplotlib.pyplot as plt\n",
    "#from tensorflow.keras.models import load_model"
   ]
  },
  {
   "cell_type": "code",
   "execution_count": 19,
   "id": "7b44a862",
   "metadata": {},
   "outputs": [],
   "source": [
    "def prediction():\n",
    "    img = image.load_img(filename,target_size=(256,256))\n",
    "    x = image.img_to_array(img)\n",
    "    x = np.expand_dims(x,axis=0) \n",
    "    Diff_Pred = Model_Two.predict(x)\n",
    "    Diff_Pred = Diff_Pred.argmax(axis=-1)\n",
    "    print(Diff_Pred)\n",
    "    if Diff_Pred == 0:\n",
    "        print('fire')\n",
    "        label3 = tk.Label(root, text='Fire', font=(\"Courier\",40),fg='red')\n",
    "        canvas1.create_window(700, 600, window=label3)\n",
    "    else:\n",
    "        print('no fire')\n",
    "        label4 = tk.Label(root, text='No Fire', font=(\"Courier\",40),fg='red')\n",
    "        canvas1.create_window(700, 600, window=label4)"
   ]
  },
  {
   "cell_type": "code",
   "execution_count": 20,
   "id": "28c9554c",
   "metadata": {},
   "outputs": [
    {
     "data": {
      "text/plain": [
       "3"
      ]
     },
     "execution_count": 20,
     "metadata": {},
     "output_type": "execute_result"
    }
   ],
   "source": [
    "btn1 = tk.Button(root, text='Upload Image/Video', command=upload_file, bg='orange',font=(\"Courier\",20))\n",
    "canvas1.create_window(620, 400, window=btn1)\n",
    "btn2 = tk.Button(root, text='Detect', command=prediction, bg='green',font=(\"Courier\",20))\n",
    "canvas1.create_window(700, 200, window=btn2)\n"
   ]
  },
  {
   "cell_type": "code",
   "execution_count": null,
   "id": "a7b613cd",
   "metadata": {},
   "outputs": [
    {
     "name": "stderr",
     "output_type": "stream",
     "text": [
      "Exception in Tkinter callback\n",
      "Traceback (most recent call last):\n",
      "  File \"C:\\Users\\Muhammad Kashif\\AppData\\Local\\Programs\\Python\\Python39\\lib\\tkinter\\__init__.py\", line 1892, in __call__\n",
      "    return self.func(*args)\n",
      "  File \"C:\\Users\\Muhammad Kashif\\AppData\\Local\\Temp\\ipykernel_13240\\461968420.py\", line 8, in upload_file\n",
      "    image2=img.resize((300,300),Image.ANTIALIAS)\n",
      "AttributeError: module 'PIL.Image' has no attribute 'ANTIALIAS'\n"
     ]
    },
    {
     "name": "stdout",
     "output_type": "stream",
     "text": [
      "1/1 [==============================] - 0s 75ms/step\n",
      "[0]\n",
      "fire\n"
     ]
    }
   ],
   "source": [
    "root.mainloop()"
   ]
  },
  {
   "cell_type": "code",
   "execution_count": null,
   "id": "eaeb085f",
   "metadata": {},
   "outputs": [],
   "source": []
  }
 ],
 "metadata": {
  "kernelspec": {
   "display_name": "Python 3 (ipykernel)",
   "language": "python",
   "name": "python3"
  },
  "language_info": {
   "codemirror_mode": {
    "name": "ipython",
    "version": 3
   },
   "file_extension": ".py",
   "mimetype": "text/x-python",
   "name": "python",
   "nbconvert_exporter": "python",
   "pygments_lexer": "ipython3",
   "version": "3.9.7"
  }
 },
 "nbformat": 4,
 "nbformat_minor": 5
}
